{
 "cells": [
  {
   "cell_type": "code",
   "execution_count": 1,
   "metadata": {},
   "outputs": [],
   "source": [
    "from google.cloud import storage\n",
    "from google.cloud import bigquery\n",
    "from google.oauth2 import service_account\n",
    "import os\n",
    "import pandas_gbq\n",
    "import pandas as pd\n",
    "import gcsfs\n",
    "\n",
    "os.environ[\"GOOGLE_APPLICATION_CREDENTIALS\"] = '/Users/lohyikuang/Documents/Python/Big Query/Credentials/bigquery_credentials.json'\n",
    "credentials = service_account.Credentials.from_service_account_file('/Users/lohyikuang/Documents/Python/Big Query/Credentials/bigquery_credentials.json')\n",
    "project_id = 'root-sanctuary-178203'\n",
    "client = bigquery.Client(credentials= credentials,project=project_id)\n",
    "# Update the in-memory credentials cache (added in pandas-gbq 0.7.0).\n",
    "pandas_gbq.context.credentials = credentials\n",
    "pandas_gbq.context.project = project_id"
   ]
  },
  {
   "cell_type": "code",
   "execution_count": 11,
   "metadata": {},
   "outputs": [
    {
     "data": {
      "text/plain": [
       "['additional_twitter_data_us',\n",
       " 'additional_twitter_data_us_df',\n",
       " 'femtech_women_in_sports_teen_girls_launch',\n",
       " 'instagram_google_search_snowball',\n",
       " 'main_dataset_url',\n",
       " 'nike_femtech_phase2_twitter_authority_long_list_arg',\n",
       " 'nike_femtech_phase2_twitter_authority_long_list_fn',\n",
       " 'nike_femtech_phase2_twitter_authority_long_list_in',\n",
       " 'nike_femtech_phase2_twitter_authority_long_list_posts_theme_sizing_arg',\n",
       " 'nike_femtech_phase2_twitter_authority_long_list_posts_theme_sizing_fn',\n",
       " 'nike_femtech_phase2_twitter_authority_long_list_posts_theme_sizing_in',\n",
       " 'nike_femtech_phase2_twitter_authority_long_list_posts_theme_sizing_jp',\n",
       " 'nike_femtech_phase2_twitter_authority_long_list_posts_theme_sizing_us',\n",
       " 'nike_femtech_phase2_twitter_authority_short_list_arg',\n",
       " 'nike_femtech_phase2_twitter_authority_short_list_posts_theme_sizing_arg',\n",
       " 'nike_femtech_phase2_twitter_authority_short_list_posts_theme_sizing_us',\n",
       " 'nike_femtech_phase2_twitter_authority_short_list_us',\n",
       " 'nike_femtech_phase2_twitter_authrority_long_list_cn',\n",
       " 'nike_femtech_phase2_twitter_authrority_long_list_jp',\n",
       " 'nike_femtech_phase2_twitter_authrority_long_list_us',\n",
       " 'nike_femtech_phase2_twitter_map_edges_arg_v1',\n",
       " 'nike_femtech_phase2_twitter_map_edges_fn_v1',\n",
       " 'nike_femtech_phase2_twitter_map_edges_in_v1',\n",
       " 'nike_femtech_phase2_twitter_map_edges_jp_v2',\n",
       " 'nike_femtech_phase2_twitter_map_edges_us_v1',\n",
       " 'nike_femtech_phase2_twitter_map_edges_us_v2',\n",
       " 'nike_femtech_phase2_twitter_map_nodes_arg_v1',\n",
       " 'nike_femtech_phase2_twitter_map_nodes_fn_v1',\n",
       " 'nike_femtech_phase2_twitter_map_nodes_in_v1',\n",
       " 'nike_femtech_phase2_twitter_map_nodes_jp_v2',\n",
       " 'nike_femtech_phase2_twitter_map_nodes_us_v1',\n",
       " 'nike_femtech_phase2_twitter_map_nodes_us_v2',\n",
       " 'nike_femtech_phase2_twitter_women_conversation_all_markets',\n",
       " 'nike_femtech_phase2_twitter_women_conversation_all_markets_theme_sizing',\n",
       " 'nike_femtech_phase2_women_keyword',\n",
       " 'nike_femtech_phase2_women_keywords_using_word_freq_bigrams']"
      ]
     },
     "execution_count": 11,
     "metadata": {},
     "output_type": "execute_result"
    }
   ],
   "source": [
    "from google.cloud import bigquery\n",
    "\n",
    "# TODO(developer): Construct a BigQuery client object.\n",
    "# client = bigquery.Client()\n",
    "\n",
    "# TODO(developer): Set dataset_id to the ID of the dataset that contains\n",
    "#                  the tables you are listing.\n",
    "# dataset_id = 'your-project.your_dataset'\n",
    "dataset_id = 'root-sanctuary-178203.1141_nike_femtech'\n",
    "tables = client.list_tables(dataset_id)\n",
    "\n",
    "[table.table_id for table in tables]"
   ]
  },
  {
   "cell_type": "code",
   "execution_count": null,
   "metadata": {},
   "outputs": [],
   "source": []
  }
 ],
 "metadata": {
  "kernelspec": {
   "display_name": "Python 3",
   "language": "python",
   "name": "python3"
  },
  "language_info": {
   "codemirror_mode": {
    "name": "ipython",
    "version": 3
   },
   "file_extension": ".py",
   "mimetype": "text/x-python",
   "name": "python",
   "nbconvert_exporter": "python",
   "pygments_lexer": "ipython3",
   "version": "3.8.5"
  }
 },
 "nbformat": 4,
 "nbformat_minor": 4
}
